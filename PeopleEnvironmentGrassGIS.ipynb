{
  "nbformat": 4,
  "nbformat_minor": 0,
  "metadata": {
    "colab": {
      "name": "PeopleEnvironmentGrassGIS.ipynb",
      "provenance": [],
      "collapsed_sections": [],
      "include_colab_link": true
    },
    "kernelspec": {
      "name": "python3",
      "display_name": "Python 3"
    }
  },
  "cells": [
    {
      "cell_type": "markdown",
      "metadata": {
        "id": "view-in-github",
        "colab_type": "text"
      },
      "source": [
        "<a href=\"https://colab.research.google.com/github/gcmillar/people-environment/blob/master/PeopleEnvironmentGrassGIS.ipynb\" target=\"_parent\"><img src=\"https://colab.research.google.com/assets/colab-badge.svg\" alt=\"Open In Colab\"/></a>"
      ]
    },
    {
      "cell_type": "markdown",
      "metadata": {
        "id": "vSy1KNtghIxl",
        "colab_type": "text"
      },
      "source": [
        "# Install GRASS GIS"
      ]
    },
    {
      "cell_type": "code",
      "metadata": {
        "id": "VAeXz46AhO9y",
        "colab_type": "code",
        "colab": {
          "base_uri": "https://localhost:8080/",
          "height": 116
        },
        "outputId": "1639e761-06c1-4747-b725-3b808eec611e"
      },
      "source": [
        "!add-apt-repository ppa:ubuntugis/ubuntugis-unstable\n",
        "\n",
        "#update packages\n",
        "!apt-get update\n",
        "\n",
        "#install grass\n",
        "!apt-get install grass -y\n",
        "\n",
        "\"\"\"## Prepare GRASS for use in Jupyter Notebook\n",
        "Source: https://grasswiki.osgeo.org/wiki/GRASS_GIS_Jupyter_notebooks\n",
        "\"\"\"\n",
        "\n",
        "#directory where GRASS GIS lives\n",
        "#!find / -name grass*\n",
        "!export GISBASE=`/usr/lib/grass78 --config path`   # or define path to binaries like /usr/local/grass-7.4.svn\n",
        "!echo $GISBASE\n",
        "\n",
        "# generate GISRC\n",
        "# Defines the system wide value while in a GRASS session\n",
        "!mkdir $HOME/grassdata\n",
        "!MYGISDBASE=$HOME/grassdata # Change this path to reflect your own \n",
        "!MYLOC=CEUS # Change this location name to reflect your own \n",
        "!MYMAPSET=PERMANENT\n",
        "\n",
        "# Set the global grassrc file to individual file name\n",
        "!MYGISRC=\"$HOME/.grassrc.$$\"\n",
        "\n",
        "!echo \"GISDBASE: $MYGISDBASE\" > \"$MYGISRC\"\n",
        "!echo \"LOCATION_NAME: $MYLOC\" >> \"$MYGISRC\"\n",
        "!echo \"MAPSET: $MYMAPSET\" >> \"$MYGISRC\"\n",
        "!echo \"GRASS_GUI: text\" >> \"$MYGISRC\"\n",
        "\n",
        "# path to GRASS settings file\n",
        "!export GISRC=$MYGISRC\n",
        "\n",
        "!export LD_LIBRARY_PATH=$GISBASE/lib:$LD_LIBRARY_PATH\n",
        "!export PYTHONPATH=$GISBASE/etc/python:$PYTHONPATH\n",
        "!export PATH=$GISBASE/bin:$GISBASE/scripts:$PATH"
      ],
      "execution_count": 0,
      "outputs": [
        {
          "output_type": "stream",
          "text": [
            " Unstable releases of Ubuntu GIS packages. These releases are more bleeding edge and while generally they should work well, they dont receive the same amount of quality assurance as our stable releases do.\n",
            " More info: https://launchpad.net/~ubuntugis/+archive/ubuntu/ubuntugis-unstable\n",
            "Press [ENTER] to continue or Ctrl-c to cancel adding it.\n"
          ],
          "name": "stdout"
        }
      ]
    },
    {
      "cell_type": "markdown",
      "metadata": {
        "id": "-ydwDKOAhZzc",
        "colab_type": "text"
      },
      "source": [
        "## Download CHIPS GRASS Data"
      ]
    },
    {
      "cell_type": "code",
      "metadata": {
        "id": "H1OWKeKDhckI",
        "colab_type": "code",
        "colab": {}
      },
      "source": [
        "#Download Sample Data\n",
        "!wget /$HOME/grassdata/ \"CHIPS.tar.gz\"\n",
        "!tar xvzf CHIPS.tar.gz\n",
        "!mv /content/CHIPS /root/grassdata/\n",
        "!chown -R root:root /root/grassdata/CHIPS/ \n",
        "\n",
        "# import Python standard library and IPython packages we need\n",
        "import os\n",
        "import sys\n",
        "import subprocess\n",
        "from IPython.display import Image\n",
        "\n",
        "# ask GRASS GIS where its Python packages are\n",
        "gisbase= \"/usr/lib/grass78\"\n",
        "# gisbase = subprocess.check_output([\"grass78\", \"--config\", \"path\"]).strip()\n",
        "# print(gisbase)\n",
        "os.environ['GISBASE'] = gisbase\n",
        "\n",
        "sys.path.append(os.path.join(\"/usr/lib/grass78\", \"etc\", \"python\"))"
      ],
      "execution_count": 0,
      "outputs": []
    }
  ]
}